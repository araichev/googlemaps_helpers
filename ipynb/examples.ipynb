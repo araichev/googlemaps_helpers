{
 "cells": [
  {
   "cell_type": "code",
   "execution_count": 11,
   "metadata": {},
   "outputs": [
    {
     "name": "stdout",
     "output_type": "stream",
     "text": [
      "The autoreload extension is already loaded. To reload it, use:\n",
      "  %reload_ext autoreload\n"
     ]
    }
   ],
   "source": [
    "from pathlib import Path\n",
    "import json\n",
    "import datetime as dt\n",
    "from itertools import product\n",
    "import math\n",
    "import sys\n",
    "\n",
    "import googlemaps\n",
    "import numpy as np\n",
    "import pandas as pd\n",
    "import geopandas as gpd\n",
    "\n",
    "sys.path.append('../')\n",
    "\n",
    "import googlemaps_helpers as gh\n",
    "\n",
    "ROOT = Path('../')\n",
    "DATA_DIR = ROOT/'data'\n",
    "\n",
    "%load_ext autoreload\n",
    "%autoreload 2"
   ]
  },
  {
   "cell_type": "code",
   "execution_count": 2,
   "metadata": {},
   "outputs": [],
   "source": [
    "# Initialize the Googlem Maps API client with your API key\n",
    "#\n",
    "my_key = gh.get_secret('GOOGLE_KEY', ROOT/'secrets.json')\n",
    "client = googlemaps.Client(key=my_key)\n"
   ]
  },
  {
   "cell_type": "code",
   "execution_count": 3,
   "metadata": {},
   "outputs": [
    {
     "name": "stdout",
     "output_type": "stream",
     "text": [
      "* shapes\n",
      "                                        geometry id\n",
      "0  POINT (174.7183227539062 -36.78179217131925)  a\n",
      "1  POINT (174.7567749023438 -36.89829270211866)  b\n",
      "2  POINT (174.9174499511719 -36.92135192790114)  c\n"
     ]
    },
    {
     "data": {
      "text/plain": [
       "{'destination_addresses': ['26 Ben Nevis Pl, Northpark, Auckland 2013, New Zealand'],\n",
       " 'origin_addresses': ['9 Waverley Ave, Glenfield, Auckland 0629, New Zealand',\n",
       "  '919 Mount Eden Rd, Mount Eden, Auckland 1024, New Zealand'],\n",
       " 'rows': [{'elements': [{'distance': {'text': '31.5 km', 'value': 31495},\n",
       "     'duration': {'text': '38 mins', 'value': 2304},\n",
       "     'duration_in_traffic': {'text': '43 mins', 'value': 2564},\n",
       "     'status': 'OK'}]},\n",
       "  {'elements': [{'distance': {'text': '18.6 km', 'value': 18597},\n",
       "     'duration': {'text': '29 mins', 'value': 1739},\n",
       "     'duration_in_traffic': {'text': '33 mins', 'value': 2000},\n",
       "     'status': 'OK'}]}],\n",
       " 'status': 'OK'}"
      ]
     },
     "execution_count": 3,
     "metadata": {},
     "output_type": "execute_result"
    }
   ],
   "source": [
    "# Call the Google Maps Distance Matrix API on some sample points\n",
    "#\n",
    "path = DATA_DIR/'points.geojson'\n",
    "points = gpd.read_file(str(path))\n",
    "print('* shapes\\n', points)\n",
    "\n",
    "origs = [p.coords[0] for p in points['geometry'][:2]]\n",
    "orig_ids = points[:2].id\n",
    "dests = [p.coords[0] for p in points['geometry'][2:]]\n",
    "dest_ids = points[2:].id\n",
    "time = dt.datetime(2019, 6, 15, 8)\n",
    " \n",
    "r = client.distance_matrix(gh.flip_coords(origs), gh.flip_coords(dests), mode='driving', \n",
    "  traffic_model='pessimistic', departure_time=time)\n",
    "r\n"
   ]
  },
  {
   "cell_type": "code",
   "execution_count": 9,
   "metadata": {},
   "outputs": [
    {
     "name": "stdout",
     "output_type": "stream",
     "text": [
      "#elements                                     9\n",
      "exceeds 10000-element daily limit?        False\n",
      "estimated cost for job in USD                 0\n",
      "estimated duration for job in minutes    0.0015\n",
      "dtype: object\n"
     ]
    },
    {
     "data": {
      "text/html": [
       "<div>\n",
       "<style>\n",
       "    .dataframe thead tr:only-child th {\n",
       "        text-align: right;\n",
       "    }\n",
       "\n",
       "    .dataframe thead th {\n",
       "        text-align: left;\n",
       "    }\n",
       "\n",
       "    .dataframe tbody tr th {\n",
       "        vertical-align: top;\n",
       "    }\n",
       "</style>\n",
       "<table border=\"1\" class=\"dataframe\">\n",
       "  <thead>\n",
       "    <tr style=\"text-align: right;\">\n",
       "      <th></th>\n",
       "      <th>origin_address</th>\n",
       "      <th>destination_address</th>\n",
       "      <th>origin_id</th>\n",
       "      <th>destination_id</th>\n",
       "      <th>duration</th>\n",
       "      <th>distance</th>\n",
       "    </tr>\n",
       "  </thead>\n",
       "  <tbody>\n",
       "    <tr>\n",
       "      <th>0</th>\n",
       "      <td>9 Waverley Ave, Glenfield, Auckland 0629, New ...</td>\n",
       "      <td>9 Waverley Ave, Glenfield, Auckland 0629, New ...</td>\n",
       "      <td>a</td>\n",
       "      <td>a</td>\n",
       "      <td>0</td>\n",
       "      <td>0</td>\n",
       "    </tr>\n",
       "    <tr>\n",
       "      <th>1</th>\n",
       "      <td>9 Waverley Ave, Glenfield, Auckland 0629, New ...</td>\n",
       "      <td>919 Mount Eden Rd, Mount Eden, Auckland 1024, ...</td>\n",
       "      <td>a</td>\n",
       "      <td>b</td>\n",
       "      <td>1562</td>\n",
       "      <td>18688</td>\n",
       "    </tr>\n",
       "    <tr>\n",
       "      <th>2</th>\n",
       "      <td>9 Waverley Ave, Glenfield, Auckland 0629, New ...</td>\n",
       "      <td>26 Ben Nevis Pl, Northpark, Auckland 2013, New...</td>\n",
       "      <td>a</td>\n",
       "      <td>c</td>\n",
       "      <td>2304</td>\n",
       "      <td>31495</td>\n",
       "    </tr>\n",
       "    <tr>\n",
       "      <th>0</th>\n",
       "      <td>919 Mount Eden Rd, Mount Eden, Auckland 1024, ...</td>\n",
       "      <td>9 Waverley Ave, Glenfield, Auckland 0629, New ...</td>\n",
       "      <td>b</td>\n",
       "      <td>a</td>\n",
       "      <td>1590</td>\n",
       "      <td>18226</td>\n",
       "    </tr>\n",
       "    <tr>\n",
       "      <th>1</th>\n",
       "      <td>919 Mount Eden Rd, Mount Eden, Auckland 1024, ...</td>\n",
       "      <td>919 Mount Eden Rd, Mount Eden, Auckland 1024, ...</td>\n",
       "      <td>b</td>\n",
       "      <td>b</td>\n",
       "      <td>0</td>\n",
       "      <td>0</td>\n",
       "    </tr>\n",
       "    <tr>\n",
       "      <th>2</th>\n",
       "      <td>919 Mount Eden Rd, Mount Eden, Auckland 1024, ...</td>\n",
       "      <td>26 Ben Nevis Pl, Northpark, Auckland 2013, New...</td>\n",
       "      <td>b</td>\n",
       "      <td>c</td>\n",
       "      <td>1739</td>\n",
       "      <td>18597</td>\n",
       "    </tr>\n",
       "    <tr>\n",
       "      <th>0</th>\n",
       "      <td>26 Ben Nevis Pl, Northpark, Auckland 2013, New...</td>\n",
       "      <td>9 Waverley Ave, Glenfield, Auckland 0629, New ...</td>\n",
       "      <td>c</td>\n",
       "      <td>a</td>\n",
       "      <td>2375</td>\n",
       "      <td>31168</td>\n",
       "    </tr>\n",
       "    <tr>\n",
       "      <th>1</th>\n",
       "      <td>26 Ben Nevis Pl, Northpark, Auckland 2013, New...</td>\n",
       "      <td>919 Mount Eden Rd, Mount Eden, Auckland 1024, ...</td>\n",
       "      <td>c</td>\n",
       "      <td>b</td>\n",
       "      <td>1719</td>\n",
       "      <td>18567</td>\n",
       "    </tr>\n",
       "    <tr>\n",
       "      <th>2</th>\n",
       "      <td>26 Ben Nevis Pl, Northpark, Auckland 2013, New...</td>\n",
       "      <td>26 Ben Nevis Pl, Northpark, Auckland 2013, New...</td>\n",
       "      <td>c</td>\n",
       "      <td>c</td>\n",
       "      <td>0</td>\n",
       "      <td>0</td>\n",
       "    </tr>\n",
       "  </tbody>\n",
       "</table>\n",
       "</div>"
      ],
      "text/plain": [
       "                                      origin_address  \\\n",
       "0  9 Waverley Ave, Glenfield, Auckland 0629, New ...   \n",
       "1  9 Waverley Ave, Glenfield, Auckland 0629, New ...   \n",
       "2  9 Waverley Ave, Glenfield, Auckland 0629, New ...   \n",
       "0  919 Mount Eden Rd, Mount Eden, Auckland 1024, ...   \n",
       "1  919 Mount Eden Rd, Mount Eden, Auckland 1024, ...   \n",
       "2  919 Mount Eden Rd, Mount Eden, Auckland 1024, ...   \n",
       "0  26 Ben Nevis Pl, Northpark, Auckland 2013, New...   \n",
       "1  26 Ben Nevis Pl, Northpark, Auckland 2013, New...   \n",
       "2  26 Ben Nevis Pl, Northpark, Auckland 2013, New...   \n",
       "\n",
       "                                 destination_address origin_id destination_id  \\\n",
       "0  9 Waverley Ave, Glenfield, Auckland 0629, New ...         a              a   \n",
       "1  919 Mount Eden Rd, Mount Eden, Auckland 1024, ...         a              b   \n",
       "2  26 Ben Nevis Pl, Northpark, Auckland 2013, New...         a              c   \n",
       "0  9 Waverley Ave, Glenfield, Auckland 0629, New ...         b              a   \n",
       "1  919 Mount Eden Rd, Mount Eden, Auckland 1024, ...         b              b   \n",
       "2  26 Ben Nevis Pl, Northpark, Auckland 2013, New...         b              c   \n",
       "0  9 Waverley Ave, Glenfield, Auckland 0629, New ...         c              a   \n",
       "1  919 Mount Eden Rd, Mount Eden, Auckland 1024, ...         c              b   \n",
       "2  26 Ben Nevis Pl, Northpark, Auckland 2013, New...         c              c   \n",
       "\n",
       "   duration  distance  \n",
       "0         0         0  \n",
       "1      1562     18688  \n",
       "2      2304     31495  \n",
       "0      1590     18226  \n",
       "1         0         0  \n",
       "2      1739     18597  \n",
       "0      2375     31168  \n",
       "1      1719     18567  \n",
       "2         0         0  "
      ]
     },
     "execution_count": 9,
     "metadata": {},
     "output_type": "execute_result"
    }
   ],
   "source": [
    "# Build a distance matrix between all pairs of points\n",
    "# \n",
    "n = points.shape[0]\n",
    "print(gh.cost_build_distance_matrix_df(n**2, num_freebies=2500))\n",
    "\n",
    "gh.build_distance_matrix_df(client, points, points, origin_id_col='id',\n",
    "  destination_id_col='id', include_selfies=True)\n",
    "\n"
   ]
  },
  {
   "cell_type": "code",
   "execution_count": null,
   "metadata": {
    "collapsed": true
   },
   "outputs": [],
   "source": []
  }
 ],
 "metadata": {
  "kernelspec": {
   "display_name": "Python 3",
   "language": "python",
   "name": "python3"
  },
  "language_info": {
   "codemirror_mode": {
    "name": "ipython",
    "version": 3
   },
   "file_extension": ".py",
   "mimetype": "text/x-python",
   "name": "python",
   "nbconvert_exporter": "python",
   "pygments_lexer": "ipython3",
   "version": "3.5.2"
  }
 },
 "nbformat": 4,
 "nbformat_minor": 2
}
